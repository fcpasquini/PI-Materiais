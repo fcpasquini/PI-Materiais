{
 "cells": [
  {
   "cell_type": "markdown",
   "metadata": {},
   "source": [
    "# Módulo 7 - Machine Learning"
   ]
  },
  {
   "cell_type": "markdown",
   "metadata": {},
   "source": [
    "### Conceitos iniciais"
   ]
  },
  {
   "cell_type": "markdown",
   "metadata": {},
   "source": [
    "##### O que é Machine Learning?"
   ]
  },
  {
   "cell_type": "markdown",
   "metadata": {},
   "source": [
    "Machine Learning é a criação de algoritmos computacionais capazes de, por meio da análise de uma amostragem de dados, realizar uma inferência sobre outras informações de uma população.\n",
    "\n",
    "Existem 2 principais tipos de Machine Learning:\n",
    "\n",
    "- Aprendizado supervisionado:\n",
    "\n",
    "- Aprendizado não supervisionado:\n",
    "\n",
    "- Aprendizado por reforço:"
   ]
  },
  {
   "cell_type": "markdown",
   "metadata": {},
   "source": [
    "##### O que é entropia da informação?"
   ]
  },
  {
   "cell_type": "markdown",
   "metadata": {},
   "source": [
    "Entropia da informação é a ideia de que existe um grau de incerteza associado a eventos aleatórios e que, quanto maior o nível de aleatoriedade do evento, maior é a aquisição de novas informações para cada nova observação. Tomemos como exemplo:"
   ]
  },
  {
   "cell_type": "markdown",
   "metadata": {},
   "source": [
    "_Marina está avaliando a entropia de dois eventos $ \\Omega$ e $ \\theta$. O evento $ \\Omega$ é o lançamento de uma moeda justa, ou seja, cada lado tem 50% de probabilidade de ser obtido em um lançamento. O evento $ \\theta$ é a extração de uma bola de uma caixa fechada, a qual contém 99 bolas azuis e 1 bola vermelha, ou seja, existe uma probabilidade de 99% de retirar uma bola azul e 1% de retirar uma bola vermelha. Com base nestas informações, suponhamos as seguintes observações de cada evento e o espaço amostral obtido utilizando somente as observações realizadas:_\n",
    "\n",
    "||Moeda|Espaço amostral do evento $ \\Omega$         |Caixa|Espaço amostral do evento $ \\theta$|\n",
    "|---|---|--------|---|---|\n",
    "|$Obs_1$|Cara(C)|$S_1 = \\{C = 100 \\%\\}$|Azul|$S_2 = {A = 100 \\%}$|\n",
    "|$Obs_2$|Coroa(K)|$S_1 = \\{C = 50 \\% , K = 50 \\%\\}$|Azul|$S_2 = {A = 100 \\%}$|\n",
    "|$Obs_3$|Coroa(K)|$S_1 = \\{C = 33.3 \\% , K = 66.6 \\%\\}$|Azul|$S_2 = {A = 100 \\%}$|\n",
    "|$Obs_4$|Coroa(C)|$S_1 = \\{C = 50 \\% , K = 50 \\%\\}$|Azul|$S_2 = {A = 100 \\%}$|\n",
    "|$Obs_5$|Coroa(K)|$S_1 = \\{C = 40 \\% , K = 60 \\%\\}$|Azul|$S_2 = {A = 100 \\%}$|\n",
    "|$Obs_6$|Coroa(K)|$S_1 = \\{C = 33.3 \\% , K = 66.6 \\%\\}$|Azul|$S_2 = {A = 100 \\%}$|\n",
    "\n",
    "_Com base na tabela acima, podemos facilmente identificar que a cada nova observação do evento $ \\Omega$ adquirimos novas informações como quais os possíveis resultados contidos no espaço amostral e também qual a probabilidade de cada evento, enquanto que no evento  $ \\theta$, mesmo com seis observações, as informações adquiridas foram exatamente iguais à informação da observação número 1. Portanto, o evento $ \\theta$ possui um grau de entropia mais baixo que o evento $ \\Omega$._\n"
   ]
  },
  {
   "cell_type": "markdown",
   "metadata": {},
   "source": [
    "### __IMPORTANTE:__ \n",
    "\n",
    "##### Mais adiante, será apresentado o conceito de __Ganho de Informação__, o qual mede a redução da entropia de um conjunto quando este é segregado em subconjuntos. Por esta razão, tome cuidado para não confundir a __Aquisição de Informação__ que foi apresentada, ou seja, o aumento de novas informações a cada nova observação, com o __Ganho de Informação__, que é a redução da aquisição de novas informações de um conjunto com base em seus subconjuntos."
   ]
  },
  {
   "cell_type": "markdown",
   "metadata": {},
   "source": [
    " "
   ]
  },
  {
   "cell_type": "markdown",
   "metadata": {},
   "source": [
    "##### O que é Ganho de Informação?"
   ]
  },
  {
   "cell_type": "code",
   "execution_count": null,
   "metadata": {},
   "outputs": [],
   "source": []
  },
  {
   "cell_type": "code",
   "execution_count": null,
   "metadata": {},
   "outputs": [],
   "source": []
  },
  {
   "cell_type": "code",
   "execution_count": null,
   "metadata": {},
   "outputs": [],
   "source": []
  },
  {
   "cell_type": "code",
   "execution_count": null,
   "metadata": {},
   "outputs": [],
   "source": []
  },
  {
   "cell_type": "code",
   "execution_count": null,
   "metadata": {},
   "outputs": [],
   "source": []
  },
  {
   "cell_type": "code",
   "execution_count": null,
   "metadata": {},
   "outputs": [],
   "source": []
  },
  {
   "cell_type": "code",
   "execution_count": null,
   "metadata": {},
   "outputs": [],
   "source": []
  }
 ],
 "metadata": {
  "kernelspec": {
   "display_name": "Python 3",
   "language": "python",
   "name": "python3"
  },
  "language_info": {
   "codemirror_mode": {
    "name": "ipython",
    "version": 3
   },
   "file_extension": ".py",
   "mimetype": "text/x-python",
   "name": "python",
   "nbconvert_exporter": "python",
   "pygments_lexer": "ipython3",
   "version": "3.7.4"
  }
 },
 "nbformat": 4,
 "nbformat_minor": 4
}
