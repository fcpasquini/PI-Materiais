{
 "cells": [
  {
   "cell_type": "markdown",
   "metadata": {},
   "source": [
    "# Exercício 07_01\n",
    "\n",
    "## Árvore\n",
    "\n",
    "Criar o código necessários para que os métodos `.cria_regras()` e `.predicao()` cumpram seus objetivos. O primeiro deve percorrer a árvore já criada pelo `.cria_galhos()` e armazeanda nos atributos `filhos`, armazenando em um dicionário as regras para cada quebra. Já o segundo deve para uma nova instância, percorrer as regras criadas pelo método anterior e fazer a predição baseado nisso.\n",
    "\n",
    "Você pode passar nos parâmetros para os métodos que julgar necessário.\n",
    "\n",
    "Lembrando que partimos das premissas que:\n",
    "\n",
    "- Nosso problema terá como variáveis explicativas apenas dados categóricos;\n",
    "- Nosso problema terá como variável resposta apenas dados categóricos;"
   ]
  },
  {
   "cell_type": "markdown",
   "metadata": {},
   "source": [
    "__Passo 0:__ Importando as bibliotecas necessárias para o processamento."
   ]
  },
  {
   "cell_type": "code",
   "execution_count": 1,
   "metadata": {},
   "outputs": [],
   "source": [
    "import pandas as pd\n",
    "import numpy as np"
   ]
  },
  {
   "cell_type": "markdown",
   "metadata": {},
   "source": [
    "__Passo 1:__ Criar a classe Árvore, a qual realizará o cálculo da entropia original, o ganho de informação de cada atributo, realiza a quebra dos galhos de acordo com o atributo com maior ganho de informação, repete os passos anteriores até chegar à menor profundidade solicitada."
   ]
  },
  {
   "cell_type": "code",
   "execution_count": 47,
   "metadata": {},
   "outputs": [],
   "source": [
    "class Arvore:\n",
    "    \n",
    "    def __init__(self, \n",
    "                 df, var_resposta, \n",
    "                 atributo_origem = '-',\n",
    "                 atributo_origem_valor = '-', \n",
    "                 profundidade = 0):\n",
    "        \n",
    "        self.df = df\n",
    "        self.var_resposta = var_resposta\n",
    "        self.filhos = []\n",
    "        self.atributo_melhor = '-'\n",
    "        self.atributo_origem = atributo_origem\n",
    "        self.atributo_origem_valor = atributo_origem_valor\n",
    "        self.gi = 0\n",
    "        self.profundidade = profundidade\n",
    "    \n",
    "    def __repr__(self):\n",
    "        return f'''Nó {self.profundidade} da Árvore de Decisão.\\nCaracterísticas do Nó:\n",
    "            Dataframe de {self.df.shape[0]} linhas.\n",
    "            A origem desse nó é o atributo {self.atributo_origem} com valor {self.atributo_origem_valor}\n",
    "            Melhor atributo desse nó é {self.atributo_melhor} com GI de {self.gi}'''\n",
    "    \n",
    "    @staticmethod\n",
    "    def entropia_binaria(p):\n",
    "    \n",
    "        if p == 0 or p == 1:\n",
    "            return 0\n",
    "\n",
    "        n = 1 - p\n",
    "        return -(p*np.log2(p) + n*np.log2(n))\n",
    "    \n",
    "    @staticmethod\n",
    "    def ganho_informacao(df, coluna, var_resposta):\n",
    "    \n",
    "        seq_poss = df[coluna].unique()\n",
    "\n",
    "        ent_inicial = Arvore.entropia_binaria(df[var_resposta].value_counts(1).iloc[0])\n",
    "\n",
    "        conj = [df[df[coluna] == i] for i in seq_poss]\n",
    "        ent = [Arvore.entropia_binaria(i[var_resposta].value_counts(1).iloc[0]) for i in conj]\n",
    "        n_elem = [i.shape[0] for i in conj]\n",
    "\n",
    "        total = sum(n_elem)\n",
    "\n",
    "        ent_atr = 0\n",
    "        for i in range(len(conj)):\n",
    "            ent_atr += ent[i]*n_elem[i]/total\n",
    "\n",
    "        return ent_inicial - ent_atr\n",
    "        \n",
    "    def melhor_atributo(self):\n",
    "        '''\n",
    "        Esse método acha o melhor atributo em relação ao ganho de informação.\n",
    "        '''\n",
    "\n",
    "        colunas_a_testar = self.df.columns.to_list()\n",
    "        colunas_a_testar.remove(self.var_resposta)\n",
    "\n",
    "        maior_v = 0\n",
    "        maior_k = '-'\n",
    "\n",
    "        for col in colunas_a_testar:\n",
    "\n",
    "            v = Arvore.ganho_informacao(self.df, col, self.var_resposta)\n",
    "            if v > maior_v:\n",
    "                maior_v = v\n",
    "                maior_k = col\n",
    "        \n",
    "        return maior_k, maior_v\n",
    "        \n",
    "    def realiza_quebra(self):\n",
    "        '''\n",
    "        Quebra o conjunto de dados inicial em N subconjuntos de acordo com \n",
    "        o melhor atributo.\n",
    "        '''\n",
    "        \n",
    "        self.atributo_melhor, self.gi = self.melhor_atributo()\n",
    "        \n",
    "        if self.atributo_melhor == '-':\n",
    "            return \n",
    "        \n",
    "        possibilidades = self.df[self.atributo_melhor].unique()\n",
    "        \n",
    "        for p in possibilidades:\n",
    "            mascara = self.df[self.atributo_melhor] == p\n",
    "            sub_conj = self.df.loc[mascara, :]\n",
    "            self.filhos.append(Arvore(sub_conj, \n",
    "                                      self.var_resposta, \n",
    "                                      atributo_origem = self.atributo_melhor,\n",
    "                                      atributo_origem_valor = p,\n",
    "                                      profundidade = self.profundidade + 1))            \n",
    "        \n",
    "        \n",
    "    def cria_galhos(self):\n",
    "        \n",
    "        self.realiza_quebra()\n",
    "        \n",
    "        for i in self.filhos:\n",
    "            \n",
    "            p0 = i.df[i.var_resposta].value_counts(1).iloc[0]\n",
    "            ent = Arvore.entropia_binaria(p0)\n",
    "            \"\"\"\n",
    "            Inseri novos códigos a partir daqui\n",
    "            \"\"\"\n",
    "            #mascara = self.df[self.atributo_melhor] == p\n",
    "            #sub_conj = self.df.loc[mascara, :]\n",
    "            #self.filhos.append(Arvore(sub_conj, \n",
    "            #                          self.var_resposta, \n",
    "            #                          atributo_origem = self.atributo_melhor,\n",
    "            #                          atributo_origem_valor = p,\n",
    "            #                          profundidade = self.profundidade + 1))\n",
    "\n",
    "            \"\"\"\n",
    "            Até aqui\n",
    "            \"\"\"\n",
    "\n",
    "            if ent > 0:\n",
    "                i.cria_galhos()\n",
    "    \n",
    "    # TODO\n",
    "    def cria_regras(self):\n",
    "        '''\n",
    "        Esse método deve percorrer recursivamente as árvores retornando o\n",
    "        conjunto de regras que definem a qual nó a nova instância pertencerá.\n",
    "        '''\n",
    "        for i in self.filhos:\n",
    "            print(i)\n",
    "            \n",
    "        # Condição de parada:\n",
    "        if self.gi == 0:\n",
    "            return\n",
    "                \n",
    "        return regras\n",
    "    \n",
    "    # TODO\n",
    "    def predicao(self, nova_instancia):\n",
    "        ''' \n",
    "        Dado uma nova instância, retorna a sua predição.\n",
    "        '''\n",
    "        \n",
    "        \n",
    "        return pred"
   ]
  },
  {
   "cell_type": "markdown",
   "metadata": {},
   "source": [
    "__Passo 2:__ Importando o dataset e criando uma amostra aleatória para servir como base de treinamento."
   ]
  },
  {
   "cell_type": "code",
   "execution_count": 48,
   "metadata": {},
   "outputs": [],
   "source": [
    "df = pd.read_csv('titanic.csv')\n",
    "\n",
    "df_amostra = df.sample(15, random_state = 1)"
   ]
  },
  {
   "cell_type": "markdown",
   "metadata": {},
   "source": [
    "__Passo 3:__ Realizando a primeira execução da classe árvore na base de treinamento."
   ]
  },
  {
   "cell_type": "code",
   "execution_count": 49,
   "metadata": {},
   "outputs": [],
   "source": [
    "arv = Arvore(df_amostra[['Survived', 'Parch', 'Sex', 'SibSp', 'Pclass']], 'Survived')"
   ]
  },
  {
   "cell_type": "markdown",
   "metadata": {},
   "source": [
    "<center> <h3> IMPORTANTE! <\\h3> <\\center>"
   ]
  },
  {
   "cell_type": "markdown",
   "metadata": {},
   "source": [
    "Neste momento, apenas a raiz da árvore de decisão foi criado. Como pode ser verificado buscando os filhos da árvore, conforme abaixo:"
   ]
  },
  {
   "cell_type": "code",
   "execution_count": 50,
   "metadata": {},
   "outputs": [
    {
     "data": {
      "text/plain": [
       "[]"
      ]
     },
     "execution_count": 50,
     "metadata": {},
     "output_type": "execute_result"
    }
   ],
   "source": [
    "arv.filhos"
   ]
  },
  {
   "cell_type": "markdown",
   "metadata": {},
   "source": [
    "__Passo 4:__ Agora devemos executar a função de cálculo do melhor atributo para identificar qual a coluna que apresenta maior ganho de informação em nosso dataframe. "
   ]
  },
  {
   "cell_type": "code",
   "execution_count": 51,
   "metadata": {},
   "outputs": [
    {
     "data": {
      "text/plain": [
       "('Sex', 0.430776632270099)"
      ]
     },
     "execution_count": 51,
     "metadata": {},
     "output_type": "execute_result"
    }
   ],
   "source": [
    "arv.melhor_atributo()"
   ]
  },
  {
   "cell_type": "markdown",
   "metadata": {},
   "source": [
    "__Passo 5:__ Com base no atributo de maior ganho de informação, descoberto por meio do __Passo 4__, realizamos a quebra da raiz em dois galhos, conforme abaixo:"
   ]
  },
  {
   "cell_type": "code",
   "execution_count": 52,
   "metadata": {},
   "outputs": [],
   "source": [
    "arv.cria_galhos()"
   ]
  },
  {
   "cell_type": "markdown",
   "metadata": {},
   "source": [
    "<center> <h3> Importante! <\\h3><\\center>"
   ]
  },
  {
   "cell_type": "markdown",
   "metadata": {},
   "source": [
    "Neste momento, existem dois galhos criados que estão como filhos da árvore, conforme pode ser verificado abaixo:"
   ]
  },
  {
   "cell_type": "code",
   "execution_count": 60,
   "metadata": {},
   "outputs": [
    {
     "data": {
      "text/plain": [
       "2"
      ]
     },
     "execution_count": 60,
     "metadata": {},
     "output_type": "execute_result"
    }
   ],
   "source": [
    "arv"
   ]
  },
  {
   "cell_type": "code",
   "execution_count": 33,
   "metadata": {},
   "outputs": [],
   "source": [
    "for i in arv.filhos:\n",
    "            \n",
    "    p0 = i.df[i.var_resposta].value_counts(1).iloc[0]"
   ]
  },
  {
   "cell_type": "code",
   "execution_count": 34,
   "metadata": {},
   "outputs": [
    {
     "data": {
      "text/plain": [
       "0.8571428571428571"
      ]
     },
     "execution_count": 34,
     "metadata": {},
     "output_type": "execute_result"
    }
   ],
   "source": [
    "p0"
   ]
  },
  {
   "cell_type": "code",
   "execution_count": null,
   "metadata": {},
   "outputs": [],
   "source": [
    "arv.predicao(df_amostra.iloc[0, :])"
   ]
  },
  {
   "cell_type": "code",
   "execution_count": null,
   "metadata": {},
   "outputs": [],
   "source": []
  },
  {
   "cell_type": "code",
   "execution_count": null,
   "metadata": {},
   "outputs": [],
   "source": []
  },
  {
   "cell_type": "code",
   "execution_count": null,
   "metadata": {},
   "outputs": [],
   "source": []
  },
  {
   "cell_type": "code",
   "execution_count": null,
   "metadata": {},
   "outputs": [],
   "source": []
  },
  {
   "cell_type": "code",
   "execution_count": null,
   "metadata": {},
   "outputs": [],
   "source": []
  },
  {
   "cell_type": "code",
   "execution_count": null,
   "metadata": {},
   "outputs": [],
   "source": []
  },
  {
   "cell_type": "code",
   "execution_count": null,
   "metadata": {},
   "outputs": [],
   "source": []
  },
  {
   "cell_type": "code",
   "execution_count": null,
   "metadata": {},
   "outputs": [],
   "source": []
  },
  {
   "cell_type": "code",
   "execution_count": null,
   "metadata": {},
   "outputs": [],
   "source": []
  },
  {
   "cell_type": "code",
   "execution_count": null,
   "metadata": {},
   "outputs": [],
   "source": []
  },
  {
   "cell_type": "code",
   "execution_count": null,
   "metadata": {},
   "outputs": [],
   "source": []
  },
  {
   "cell_type": "code",
   "execution_count": null,
   "metadata": {},
   "outputs": [],
   "source": []
  },
  {
   "cell_type": "code",
   "execution_count": null,
   "metadata": {},
   "outputs": [],
   "source": []
  },
  {
   "cell_type": "code",
   "execution_count": null,
   "metadata": {},
   "outputs": [],
   "source": []
  },
  {
   "cell_type": "code",
   "execution_count": null,
   "metadata": {},
   "outputs": [],
   "source": []
  },
  {
   "cell_type": "code",
   "execution_count": null,
   "metadata": {},
   "outputs": [],
   "source": []
  },
  {
   "cell_type": "code",
   "execution_count": null,
   "metadata": {},
   "outputs": [],
   "source": []
  },
  {
   "cell_type": "code",
   "execution_count": null,
   "metadata": {},
   "outputs": [],
   "source": []
  },
  {
   "cell_type": "code",
   "execution_count": null,
   "metadata": {},
   "outputs": [],
   "source": []
  },
  {
   "cell_type": "code",
   "execution_count": null,
   "metadata": {},
   "outputs": [],
   "source": []
  },
  {
   "cell_type": "code",
   "execution_count": null,
   "metadata": {},
   "outputs": [],
   "source": []
  },
  {
   "cell_type": "code",
   "execution_count": null,
   "metadata": {},
   "outputs": [],
   "source": []
  },
  {
   "cell_type": "code",
   "execution_count": null,
   "metadata": {},
   "outputs": [],
   "source": []
  },
  {
   "cell_type": "code",
   "execution_count": null,
   "metadata": {},
   "outputs": [],
   "source": []
  },
  {
   "cell_type": "code",
   "execution_count": null,
   "metadata": {},
   "outputs": [],
   "source": []
  }
 ],
 "metadata": {
  "kernelspec": {
   "display_name": "Python 3",
   "language": "python",
   "name": "python3"
  },
  "language_info": {
   "codemirror_mode": {
    "name": "ipython",
    "version": 3
   },
   "file_extension": ".py",
   "mimetype": "text/x-python",
   "name": "python",
   "nbconvert_exporter": "python",
   "pygments_lexer": "ipython3",
   "version": "3.7.4"
  }
 },
 "nbformat": 4,
 "nbformat_minor": 4
}
