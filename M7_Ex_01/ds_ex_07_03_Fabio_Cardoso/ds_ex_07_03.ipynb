{
 "cells": [
  {
   "cell_type": "markdown",
   "metadata": {},
   "source": [
    "# Exercício 07_03\n",
    "\n",
    "## Exploração\n",
    "\n",
    "Utilizando o conjunto de dados de compras (`compra_online_treino.csv`), testar qual modelo (Regressão Logística, KNN e Árvore) se adaptará melhor a este conjunto de dados. Realizar o pré-processamento necessário para cada um, explicando o por quê desta decisão.\n",
    "\n",
    "PS: apesar do nomes do arquivo ser `compra_online_treino.csv`, separar em treino e teste, aplicando a metodologia que você julgar melhor."
   ]
  },
  {
   "cell_type": "code",
   "execution_count": null,
   "metadata": {},
   "outputs": [],
   "source": [
    "import numpy as np\n",
    "import pandas as pd\n",
    "\n",
    "df = pd.read_csv('compra_online_treino.csv')\n",
    "df.head()"
   ]
  }
 ],
 "metadata": {
  "kernelspec": {
   "display_name": "Python 3",
   "language": "python",
   "name": "python3"
  },
  "language_info": {
   "codemirror_mode": {
    "name": "ipython",
    "version": 3
   },
   "file_extension": ".py",
   "mimetype": "text/x-python",
   "name": "python",
   "nbconvert_exporter": "python",
   "pygments_lexer": "ipython3",
   "version": "3.7.4"
  }
 },
 "nbformat": 4,
 "nbformat_minor": 4
}
