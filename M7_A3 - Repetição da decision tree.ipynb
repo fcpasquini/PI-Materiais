{
 "cells": [
  {
   "cell_type": "markdown",
   "metadata": {},
   "source": [
    "# Machine Learning e Árvore de decisão"
   ]
  },
  {
   "cell_type": "markdown",
   "metadata": {},
   "source": [
    "### Aula 3 - Repetição da Decision Tree da Aula"
   ]
  },
  {
   "cell_type": "markdown",
   "metadata": {},
   "source": [
    "#### Importação das bibliotecas"
   ]
  },
  {
   "cell_type": "code",
   "execution_count": 36,
   "metadata": {},
   "outputs": [],
   "source": [
    "import pandas as pd\n",
    "import numpy as np\n",
    "import matplotlib.pyplot as plt"
   ]
  },
  {
   "cell_type": "markdown",
   "metadata": {},
   "source": [
    "#### Importação do dataset"
   ]
  },
  {
   "cell_type": "code",
   "execution_count": 24,
   "metadata": {
    "jupyter": {
     "source_hidden": true
    }
   },
   "outputs": [],
   "source": [
    "md = r\"C:\\Users\\fcpas\\Documents\\GitHub\\PI-Materiais\""
   ]
  },
  {
   "cell_type": "code",
   "execution_count": 25,
   "metadata": {
    "jupyter": {
     "source_hidden": true
    }
   },
   "outputs": [],
   "source": [
    "path = md + '\\\\titanic.csv'"
   ]
  },
  {
   "cell_type": "code",
   "execution_count": 26,
   "metadata": {
    "jupyter": {
     "source_hidden": true
    }
   },
   "outputs": [],
   "source": [
    "df = pd.read_csv(path)"
   ]
  },
  {
   "cell_type": "markdown",
   "metadata": {},
   "source": [
    "#### Relembrando os principais conceitos a serem utilizados"
   ]
  },
  {
   "cell_type": "markdown",
   "metadata": {
    "jupyter": {
     "source_hidden": true
    }
   },
   "source": [
    "__Decision Tree__: série de classificadores binários criados em formato de árvore, os quais contém as seguintes estruturas:\n",
    "\n",
    "- __Raiz__: Ponto onde a árvore se iniciará e realizará a primeira classificação. É a decisão de número $n_1$;\n",
    "\n",
    "- __Nó__: Pontos intermediários nos quais serão realizadas todas as classificações do intervalo de $n_2$ a $n-1$;\n",
    "\n",
    "- __Folha__: Ponto final da árvore de decisão, a partir do qual não há mais formas de diferenciar as classificações ou foi explicitamente definido pelo usuário que novas diferenciações são irrelevantes. Fica no ponto $n$ da árvore."
   ]
  },
  {
   "cell_type": "markdown",
   "metadata": {
    "jupyter": {
     "source_hidden": true
    }
   },
   "source": [
    "__Entropia__: é o grau de incerteza associado à ocorrência de um evento. Comumente, é trabalhado com a entropia binária, a qual apresenta apenas as possibilidades de sucessso (1) ou fracasso (0). Este valor pode ser obtido por meio da seguinte fórmula:\n",
    "\n",
    "$$ \\alpha = \\sum_1^n p_n*log_2(p_n) $$\n",
    "\n",
    "A distribuição da entropia de um determinado evento pode ser representada da seguinte forma:"
   ]
  },
  {
   "cell_type": "code",
   "execution_count": 43,
   "metadata": {
    "collapsed": true,
    "jupyter": {
     "outputs_hidden": true,
     "source_hidden": true
    }
   },
   "outputs": [
    {
     "name": "stderr",
     "output_type": "stream",
     "text": [
      "C:\\ProgramData\\Anaconda3\\lib\\site-packages\\ipykernel_launcher.py:5: RuntimeWarning: divide by zero encountered in log2\n",
      "  \"\"\"\n",
      "C:\\ProgramData\\Anaconda3\\lib\\site-packages\\ipykernel_launcher.py:5: RuntimeWarning: invalid value encountered in multiply\n",
      "  \"\"\"\n"
     ]
    },
    {
     "data": {
      "text/plain": [
       "<function matplotlib.pyplot.show(*args, **kw)>"
      ]
     },
     "execution_count": 43,
     "metadata": {},
     "output_type": "execute_result"
    },
    {
     "data": {
      "image/png": "[encoded data removed]",
      "text/plain": [
       "<Figure size 432x288 with 1 Axes>"
      ]
     },
     "metadata": {
      "needs_background": "light"
     },
     "output_type": "display_data"
    }
   ],
   "source": [
    "p = np.linspace(0.01, 1, 100)\n",
    "\n",
    "n = 1-p\n",
    "\n",
    "entropia = -(p*np.log2(p) + n*np.log2(n))\n",
    "\n",
    "plt.plot(p, entropia)\n",
    "\n",
    "plt.show"
   ]
  },
  {
   "cell_type": "markdown",
   "metadata": {},
   "source": [
    "Com base na distribuição apresentada, é fácil perceber empiricamente que, quanto mais distante de uma probabilidade de 50%, menor é a entropia do evento."
   ]
  },
  {
   "cell_type": "markdown",
   "metadata": {
    "jupyter": {
     "source_hidden": true
    }
   },
   "source": [
    "__Ganho de informação__: é a redução da __entropia__ após a segregação de um conjunto de eventos em subconjuntos disjuntos. Pode ser obtida por meio da seguinte fórmula:\n",
    "\n",
    "$$GI = \\sum_i \\frac{c_ip * \\alpha_ip}{C_it} + \\frac{c_in * \\alpha_in}{C_it}$$"
   ]
  },
  {
   "cell_type": "markdown",
   "metadata": {
    "jupyter": {
     "source_hidden": true
    }
   },
   "source": [
    "Em que:\n",
    "\n",
    "GI = Ganho de informação;\n",
    "\n",
    "c = Subconjunto disjunto do conjunto que está sendo analisado;\n",
    "\n",
    "$C_it$ = Número total de elementos do conjunto C;\n",
    "\n",
    "$\\alpha$ = Entropia."
   ]
  },
  {
   "cell_type": "markdown",
   "metadata": {
    "jupyter": {
     "source_hidden": true
    }
   },
   "source": [
    "O ganho de informação é uma ótima métrica para avaliar se o modelo está chegando próximo a uma predição acurada dos dados, por isso, nos algoritmos de árvore de decisão, este é embutido para demonstrar se o modelo está progredindo ou não."
   ]
  },
  {
   "cell_type": "markdown",
   "metadata": {},
   "source": [
    "#### Criando a classe que conterá as funções da árvore de decisão"
   ]
  },
  {
   "cell_type": "code",
   "execution_count": 183,
   "metadata": {},
   "outputs": [],
   "source": [
    "class DecisionTree():\n",
    "    def __init__(self, df, var_resp, var_exp):\n",
    "        self.df = df\n",
    "        self.var_resp = var_resp\n",
    "        self.var_exp = var_exp\n",
    "        self.tamanho = len(df)\n",
    "        self.possibilidades = list(self.df[self.var_resp].unique())\n",
    "        self.entropia = []\n",
    "        temp = 0\n",
    "        for a in self.possibilidades:\n",
    "            b = (len(self.df[self.df[var_resp] == a])/len(self.df))\n",
    "            temp += -(b * np.log2(b))\n",
    "        self.entropia.append(temp)\n",
    "        \n",
    "    #def entropia_binaria(self):\n",
    "            \n",
    "            \n",
    "            \n",
    "            \n",
    "            \n",
    "            "
   ]
  },
  {
   "cell_type": "code",
   "execution_count": 186,
   "metadata": {},
   "outputs": [],
   "source": [
    "arvore = DecisionTree(df[['Pclass', 'Sex', 'Age', 'SibSp', 'Parch', 'Embarked', 'Survived']], 'Survived', 'Pclass')"
   ]
  },
  {
   "cell_type": "code",
   "execution_count": 204,
   "metadata": {},
   "outputs": [
    {
     "data": {
      "text/plain": [
       "1.0"
      ]
     },
     "execution_count": 204,
     "metadata": {},
     "output_type": "execute_result"
    }
   ],
   "source": [
    "a = 0.5\n",
    "\n",
    "\n",
    "b = 0.5\n",
    "\n",
    "enta = a*np.log2(a)\n",
    "entb = b*np.log2(b)\n",
    "\n",
    "-(enta+entb)"
   ]
  },
  {
   "cell_type": "code",
   "execution_count": 187,
   "metadata": {},
   "outputs": [
    {
     "data": {
      "text/plain": [
       "[0.9607079018756469]"
      ]
     },
     "execution_count": 187,
     "metadata": {},
     "output_type": "execute_result"
    }
   ],
   "source": [
    "arvore.entropia"
   ]
  },
  {
   "cell_type": "code",
   "execution_count": 164,
   "metadata": {},
   "outputs": [
    {
     "name": "stdout",
     "output_type": "stream",
     "text": [
      "[0, 1]\n"
     ]
    }
   ],
   "source": [
    "print(arvore.entropia)"
   ]
  },
  {
   "cell_type": "code",
   "execution_count": 159,
   "metadata": {},
   "outputs": [],
   "source": [
    "lista = df.Sex.value_counts()"
   ]
  },
  {
   "cell_type": "code",
   "execution_count": 161,
   "metadata": {},
   "outputs": [
    {
     "data": {
      "text/plain": [
       "577"
      ]
     },
     "execution_count": 161,
     "metadata": {},
     "output_type": "execute_result"
    }
   ],
   "source": [
    "lista[0]"
   ]
  },
  {
   "cell_type": "code",
   "execution_count": 155,
   "metadata": {},
   "outputs": [
    {
     "data": {
      "text/plain": [
       "array(['male', 'female'], dtype=object)"
      ]
     },
     "execution_count": 155,
     "metadata": {},
     "output_type": "execute_result"
    }
   ],
   "source": [
    "lista"
   ]
  },
  {
   "cell_type": "code",
   "execution_count": 94,
   "metadata": {},
   "outputs": [],
   "source": [
    "arvore = DecisionTree(df.head(), df['Survived'].head(), df[['Pclass', 'Name']].head())"
   ]
  },
  {
   "cell_type": "code",
   "execution_count": 73,
   "metadata": {},
   "outputs": [],
   "source": [
    "class carro():\n",
    "    def __init__(self, marca, ano, litros, ligado):\n",
    "        self.marca = marca\n",
    "        self.ano = ano\n",
    "        self.litros = litros\n",
    "        self.ligado = ligado\n",
    "        self.teste = 10\n",
    "\n",
    "    def ligar(self):\n",
    "        print('Carro ligado')\n",
    "        self.ligado = 1\n",
    "    \n",
    "    def desligar(self):\n",
    "        print('Carro desligado')\n",
    "        self.ligado = 0\n",
    "        \n",
    "    def dirigir(self):\n",
    "        if self.ligado == 1:\n",
    "            print('Carro se movimentando')\n",
    "            time.sleep(2)\n",
    "            print('...')\n",
    "            time.sleep(2)\n",
    "            print('...')\n",
    "            time.sleep(1)\n",
    "            print('...')\n",
    "            time.sleep(1)\n",
    "            print('Chegamos.')\n",
    "        else:\n",
    "            print('Carro desligado. Ligue-o e tente novamente')"
   ]
  },
  {
   "cell_type": "code",
   "execution_count": null,
   "metadata": {},
   "outputs": [],
   "source": []
  }
 ],
 "metadata": {
  "kernelspec": {
   "display_name": "Python 3",
   "language": "python",
   "name": "python3"
  },
  "language_info": {
   "codemirror_mode": {
    "name": "ipython",
    "version": 3
   },
   "file_extension": ".py",
   "mimetype": "text/x-python",
   "name": "python",
   "nbconvert_exporter": "python",
   "pygments_lexer": "ipython3",
   "version": "3.7.4"
  }
 },
 "nbformat": 4,
 "nbformat_minor": 4
}
