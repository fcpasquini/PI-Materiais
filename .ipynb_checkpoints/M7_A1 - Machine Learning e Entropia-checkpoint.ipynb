{
 "cells": [
  {
   "cell_type": "markdown",
   "metadata": {},
   "source": [
    "# Módulo 7 - Machine Learning"
   ]
  },
  {
   "cell_type": "markdown",
   "metadata": {},
   "source": [
    "### Importação de bibliotecas"
   ]
  },
  {
   "cell_type": "code",
   "execution_count": 4,
   "metadata": {},
   "outputs": [],
   "source": [
    "import numpy as np\n",
    "import matplotlib.pyplot as plt"
   ]
  },
  {
   "cell_type": "markdown",
   "metadata": {},
   "source": [
    "### Conceitos iniciais"
   ]
  },
  {
   "cell_type": "markdown",
   "metadata": {},
   "source": [
    "##### O que é Machine Learning?"
   ]
  },
  {
   "cell_type": "markdown",
   "metadata": {},
   "source": [
    "Machine Learning é a criação de algoritmos computacionais capazes de, por meio da análise de uma amostragem de dados, realizar uma inferência sobre outras informações de uma população.\n",
    "\n",
    "Existem 2 principais tipos de Machine Learning:\n",
    "\n",
    "- Aprendizado supervisionado:\n",
    "\n",
    "- Aprendizado não supervisionado:\n",
    "\n",
    "- Aprendizado por reforço:"
   ]
  },
  {
   "cell_type": "markdown",
   "metadata": {},
   "source": [
    "##### O que é entropia da informação?"
   ]
  },
  {
   "cell_type": "markdown",
   "metadata": {},
   "source": [
    "Entropia da informação é a ideia de que existe um grau de incerteza associado a eventos aleatórios e que, quanto maior o nível de aleatoriedade do evento, maior é a aquisição de novas informações para cada nova observação. Tomemos como exemplo:"
   ]
  },
  {
   "cell_type": "markdown",
   "metadata": {},
   "source": [
    "_Marina está avaliando a entropia de dois eventos $ \\Omega$ e $ \\theta$. O evento $ \\Omega$ é o lançamento de uma moeda justa, ou seja, cada lado tem 50% de probabilidade de ser obtido em um lançamento. O evento $ \\theta$ é a extração de uma bola de uma caixa fechada, a qual contém 99 bolas azuis e 1 bola vermelha, ou seja, existe uma probabilidade de 99% de retirar uma bola azul e 1% de retirar uma bola vermelha. Com base nestas informações, suponhamos as seguintes observações de cada evento e o espaço amostral obtido utilizando somente as observações realizadas:_\n",
    "\n",
    "||Moeda|Espaço amostral do evento $ \\Omega$         |Caixa|Espaço amostral do evento $ \\theta$|\n",
    "|---|---|--------|---|---|\n",
    "|$Obs_1$|Cara(C)|$S_1 = \\{C = 100 \\%\\}$|Azul|$S_2 = {A = 100 \\%}$|\n",
    "|$Obs_2$|Coroa(K)|$S_1 = \\{C = 50 \\% , K = 50 \\%\\}$|Azul|$S_2 = {A = 100 \\%}$|\n",
    "|$Obs_3$|Coroa(K)|$S_1 = \\{C = 33.3 \\% , K = 66.6 \\%\\}$|Azul|$S_2 = {A = 100 \\%}$|\n",
    "|$Obs_4$|Coroa(C)|$S_1 = \\{C = 50 \\% , K = 50 \\%\\}$|Azul|$S_2 = {A = 100 \\%}$|\n",
    "|$Obs_5$|Coroa(K)|$S_1 = \\{C = 40 \\% , K = 60 \\%\\}$|Azul|$S_2 = {A = 100 \\%}$|\n",
    "|$Obs_6$|Coroa(K)|$S_1 = \\{C = 33.3 \\% , K = 66.6 \\%\\}$|Azul|$S_2 = {A = 100 \\%}$|\n",
    "\n",
    "_Com base na tabela acima, podemos facilmente identificar que a cada nova observação do evento $ \\Omega$ adquirimos novas informações como quais os possíveis resultados contidos no espaço amostral e também qual a probabilidade de cada evento, enquanto que no evento  $ \\theta$, mesmo com seis observações, as informações adquiridas foram exatamente iguais à informação da observação número 1. Portanto, o evento $ \\theta$ possui um grau de entropia mais baixo que o evento $ \\Omega$._\n"
   ]
  },
  {
   "cell_type": "markdown",
   "metadata": {},
   "source": [
    "### __IMPORTANTE:__ \n",
    "\n",
    "##### Mais adiante, será apresentado o conceito de __Ganho de Informação__, o qual mede a redução da entropia de um conjunto quando este é segregado em subconjuntos. Por esta razão, tome cuidado para não confundir a __Aquisição de Informação__ que foi apresentada, ou seja, o aumento de novas informações a cada nova observação, com o __Ganho de Informação__, que é a redução da aquisição de novas informações de um conjunto com base em seus subconjuntos."
   ]
  },
  {
   "cell_type": "markdown",
   "metadata": {},
   "source": [
    "##### Como é calculada a Entropia da Informação?"
   ]
  },
  {
   "cell_type": "markdown",
   "metadata": {},
   "source": [
    "A quantidade de __Entropia da Informação__ de um evento binário pode ser facilmente obtida por meio da seguinte fórmula:\n",
    "\n",
    "$$ \\gamma = - \\sum_1^2 p_i * log_2 p_i$$"
   ]
  },
  {
   "cell_type": "markdown",
   "metadata": {},
   "source": [
    "Dado que:\n",
    "\n",
    "$\\gamma$ = Entropia total;\n",
    "\n",
    "$ p $ = Probabilidade do evento."
   ]
  },
  {
   "cell_type": "markdown",
   "metadata": {},
   "source": [
    "Adicionalmente, também é fácil realizar uma comprovação empírica desta equação, da seguinte forma:\n",
    "\n",
    "- Definimos valores arbitrários entre 0 e 1, a fim de representar a probabilidade do evento p;"
   ]
  },
  {
   "cell_type": "code",
   "execution_count": 5,
   "metadata": {},
   "outputs": [],
   "source": [
    "p = np.linspace(0.001, 0.999, 99)"
   ]
  },
  {
   "cell_type": "markdown",
   "metadata": {},
   "source": [
    "- Definimos o valor do complemento de p ( $p_c$ = n):"
   ]
  },
  {
   "cell_type": "code",
   "execution_count": 6,
   "metadata": {},
   "outputs": [],
   "source": [
    "n = 1 - p"
   ]
  },
  {
   "cell_type": "markdown",
   "metadata": {},
   "source": [
    "- Definimos o valor de entropia para cada probabilidade definida no eixo x;"
   ]
  },
  {
   "cell_type": "code",
   "execution_count": 7,
   "metadata": {},
   "outputs": [],
   "source": [
    "entropia = -(p*np.log2(p) + n*np.log2(n))"
   ]
  },
  {
   "cell_type": "markdown",
   "metadata": {},
   "source": [
    "- Plotamos o gráfico de entropia;"
   ]
  },
  {
   "cell_type": "code",
   "execution_count": 9,
   "metadata": {},
   "outputs": [
    {
     "data": {
      "text/plain": [
       "<function matplotlib.pyplot.show(*args, **kw)>"
      ]
     },
     "execution_count": 9,
     "metadata": {},
     "output_type": "execute_result"
    },
    {
     "data": {
      "image/png": "[encoded data removed]",
      "text/plain": [
       "<Figure size 432x288 with 1 Axes>"
      ]
     },
     "metadata": {
      "needs_background": "light"
     },
     "output_type": "display_data"
    }
   ],
   "source": [
    "plt.plot(p, entropia)\n",
    "plt.show"
   ]
  },
  {
   "cell_type": "markdown",
   "metadata": {},
   "source": [
    "Com base no gráfico elaborado, podemos concluir que conforme as probabilidades do evento p tendem a 0 ou a 1, a entropia total do conjunto tende a 0."
   ]
  },
  {
   "cell_type": "markdown",
   "metadata": {},
   "source": [
    "##### O que é Ganho de Informação?"
   ]
  },
  {
   "cell_type": "markdown",
   "metadata": {},
   "source": [
    "__Ganho de Informação__ é a diferença entre o total de entropia de um conjunto inicial subtraído do total de entropia de seus subconjuntos ponderada pelo número de elementos de cada subconjunto disjunto, criados a partir de uma determinada regra. Matematicamente, o __Ganho de Informação__ pode ser escrito da seguinte forma:\n",
    "\n",
    "### $$ \\delta = \\gamma_i - \\frac{\\sum_1^n \\gamma_n * \\zeta_n}{ \\sum_1^n \\zeta_n}|C_j \\cap C_n = \\emptyset, \\forall j, n\\in \\Delta, j \\neq n$$\n",
    "\n",
    "Dado que:\n",
    "\n",
    "$ \\delta$ = Total de __Ganho de Informação__;\n",
    "\n",
    "$ \\gamma$ = Entropia inicial do conjunto;\n",
    "\n",
    "$ \\zeta$ = Número de elementos do subconjunto;\n",
    "\n",
    "$ \\forall$ = Para todo elemento do conjunto;\n",
    "\n",
    "$ \\Delta$ = Conjunto de todos os subconjuntos do conjunto de análise."
   ]
  },
  {
   "cell_type": "code",
   "execution_count": null,
   "metadata": {},
   "outputs": [],
   "source": []
  }
 ],
 "metadata": {
  "kernelspec": {
   "display_name": "Python 3",
   "language": "python",
   "name": "python3"
  },
  "language_info": {
   "codemirror_mode": {
    "name": "ipython",
    "version": 3
   },
   "file_extension": ".py",
   "mimetype": "text/x-python",
   "name": "python",
   "nbconvert_exporter": "python",
   "pygments_lexer": "ipython3",
   "version": "3.7.4"
  }
 },
 "nbformat": 4,
 "nbformat_minor": 4
}
