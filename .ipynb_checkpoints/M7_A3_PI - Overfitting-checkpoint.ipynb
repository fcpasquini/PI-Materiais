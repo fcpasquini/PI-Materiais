{
 "cells": [
  {
   "cell_type": "markdown",
   "metadata": {},
   "source": [
    "# Árvore\n",
    "\n",
    "Continuando de onde paramos..."
   ]
  },
  {
   "cell_type": "code",
   "execution_count": 48,
   "metadata": {},
   "outputs": [
    {
     "data": {
      "text/html": [
       "<div>\n",
       "<style scoped>\n",
       "    .dataframe tbody tr th:only-of-type {\n",
       "        vertical-align: middle;\n",
       "    }\n",
       "\n",
       "    .dataframe tbody tr th {\n",
       "        vertical-align: top;\n",
       "    }\n",
       "\n",
       "    .dataframe thead th {\n",
       "        text-align: right;\n",
       "    }\n",
       "</style>\n",
       "<table border=\"1\" class=\"dataframe\">\n",
       "  <thead>\n",
       "    <tr style=\"text-align: right;\">\n",
       "      <th></th>\n",
       "      <th>PassengerId</th>\n",
       "      <th>Survived</th>\n",
       "      <th>Pclass</th>\n",
       "      <th>Name</th>\n",
       "      <th>Sex</th>\n",
       "      <th>Age</th>\n",
       "      <th>SibSp</th>\n",
       "      <th>Parch</th>\n",
       "      <th>Ticket</th>\n",
       "      <th>Fare</th>\n",
       "      <th>Cabin</th>\n",
       "      <th>Embarked</th>\n",
       "    </tr>\n",
       "  </thead>\n",
       "  <tbody>\n",
       "    <tr>\n",
       "      <td>862</td>\n",
       "      <td>863</td>\n",
       "      <td>1</td>\n",
       "      <td>1</td>\n",
       "      <td>Swift, Mrs. Frederick Joel (Margaret Welles Ba...</td>\n",
       "      <td>female</td>\n",
       "      <td>48.0</td>\n",
       "      <td>0</td>\n",
       "      <td>0</td>\n",
       "      <td>17466</td>\n",
       "      <td>25.9292</td>\n",
       "      <td>D17</td>\n",
       "      <td>S</td>\n",
       "    </tr>\n",
       "    <tr>\n",
       "      <td>223</td>\n",
       "      <td>224</td>\n",
       "      <td>0</td>\n",
       "      <td>3</td>\n",
       "      <td>Nenkoff, Mr. Christo</td>\n",
       "      <td>male</td>\n",
       "      <td>NaN</td>\n",
       "      <td>0</td>\n",
       "      <td>0</td>\n",
       "      <td>349234</td>\n",
       "      <td>7.8958</td>\n",
       "      <td>NaN</td>\n",
       "      <td>S</td>\n",
       "    </tr>\n",
       "    <tr>\n",
       "      <td>84</td>\n",
       "      <td>85</td>\n",
       "      <td>1</td>\n",
       "      <td>2</td>\n",
       "      <td>Ilett, Miss. Bertha</td>\n",
       "      <td>female</td>\n",
       "      <td>17.0</td>\n",
       "      <td>0</td>\n",
       "      <td>0</td>\n",
       "      <td>SO/C 14885</td>\n",
       "      <td>10.5000</td>\n",
       "      <td>NaN</td>\n",
       "      <td>S</td>\n",
       "    </tr>\n",
       "    <tr>\n",
       "      <td>680</td>\n",
       "      <td>681</td>\n",
       "      <td>0</td>\n",
       "      <td>3</td>\n",
       "      <td>Peters, Miss. Katie</td>\n",
       "      <td>female</td>\n",
       "      <td>NaN</td>\n",
       "      <td>0</td>\n",
       "      <td>0</td>\n",
       "      <td>330935</td>\n",
       "      <td>8.1375</td>\n",
       "      <td>NaN</td>\n",
       "      <td>Q</td>\n",
       "    </tr>\n",
       "    <tr>\n",
       "      <td>535</td>\n",
       "      <td>536</td>\n",
       "      <td>1</td>\n",
       "      <td>2</td>\n",
       "      <td>Hart, Miss. Eva Miriam</td>\n",
       "      <td>female</td>\n",
       "      <td>7.0</td>\n",
       "      <td>0</td>\n",
       "      <td>2</td>\n",
       "      <td>F.C.C. 13529</td>\n",
       "      <td>26.2500</td>\n",
       "      <td>NaN</td>\n",
       "      <td>S</td>\n",
       "    </tr>\n",
       "    <tr>\n",
       "      <td>623</td>\n",
       "      <td>624</td>\n",
       "      <td>0</td>\n",
       "      <td>3</td>\n",
       "      <td>Hansen, Mr. Henry Damsgaard</td>\n",
       "      <td>male</td>\n",
       "      <td>21.0</td>\n",
       "      <td>0</td>\n",
       "      <td>0</td>\n",
       "      <td>350029</td>\n",
       "      <td>7.8542</td>\n",
       "      <td>NaN</td>\n",
       "      <td>S</td>\n",
       "    </tr>\n",
       "    <tr>\n",
       "      <td>148</td>\n",
       "      <td>149</td>\n",
       "      <td>0</td>\n",
       "      <td>2</td>\n",
       "      <td>Navratil, Mr. Michel (\"Louis M Hoffman\")</td>\n",
       "      <td>male</td>\n",
       "      <td>36.5</td>\n",
       "      <td>0</td>\n",
       "      <td>2</td>\n",
       "      <td>230080</td>\n",
       "      <td>26.0000</td>\n",
       "      <td>F2</td>\n",
       "      <td>S</td>\n",
       "    </tr>\n",
       "    <tr>\n",
       "      <td>3</td>\n",
       "      <td>4</td>\n",
       "      <td>1</td>\n",
       "      <td>1</td>\n",
       "      <td>Futrelle, Mrs. Jacques Heath (Lily May Peel)</td>\n",
       "      <td>female</td>\n",
       "      <td>35.0</td>\n",
       "      <td>1</td>\n",
       "      <td>0</td>\n",
       "      <td>113803</td>\n",
       "      <td>53.1000</td>\n",
       "      <td>C123</td>\n",
       "      <td>S</td>\n",
       "    </tr>\n",
       "    <tr>\n",
       "      <td>34</td>\n",
       "      <td>35</td>\n",
       "      <td>0</td>\n",
       "      <td>1</td>\n",
       "      <td>Meyer, Mr. Edgar Joseph</td>\n",
       "      <td>male</td>\n",
       "      <td>28.0</td>\n",
       "      <td>1</td>\n",
       "      <td>0</td>\n",
       "      <td>PC 17604</td>\n",
       "      <td>82.1708</td>\n",
       "      <td>NaN</td>\n",
       "      <td>C</td>\n",
       "    </tr>\n",
       "    <tr>\n",
       "      <td>241</td>\n",
       "      <td>242</td>\n",
       "      <td>1</td>\n",
       "      <td>3</td>\n",
       "      <td>Murphy, Miss. Katherine \"Kate\"</td>\n",
       "      <td>female</td>\n",
       "      <td>NaN</td>\n",
       "      <td>1</td>\n",
       "      <td>0</td>\n",
       "      <td>367230</td>\n",
       "      <td>15.5000</td>\n",
       "      <td>NaN</td>\n",
       "      <td>Q</td>\n",
       "    </tr>\n",
       "    <tr>\n",
       "      <td>794</td>\n",
       "      <td>795</td>\n",
       "      <td>0</td>\n",
       "      <td>3</td>\n",
       "      <td>Dantcheff, Mr. Ristiu</td>\n",
       "      <td>male</td>\n",
       "      <td>25.0</td>\n",
       "      <td>0</td>\n",
       "      <td>0</td>\n",
       "      <td>349203</td>\n",
       "      <td>7.8958</td>\n",
       "      <td>NaN</td>\n",
       "      <td>S</td>\n",
       "    </tr>\n",
       "    <tr>\n",
       "      <td>2</td>\n",
       "      <td>3</td>\n",
       "      <td>1</td>\n",
       "      <td>3</td>\n",
       "      <td>Heikkinen, Miss. Laina</td>\n",
       "      <td>female</td>\n",
       "      <td>26.0</td>\n",
       "      <td>0</td>\n",
       "      <td>0</td>\n",
       "      <td>STON/O2. 3101282</td>\n",
       "      <td>7.9250</td>\n",
       "      <td>NaN</td>\n",
       "      <td>S</td>\n",
       "    </tr>\n",
       "    <tr>\n",
       "      <td>6</td>\n",
       "      <td>7</td>\n",
       "      <td>0</td>\n",
       "      <td>1</td>\n",
       "      <td>McCarthy, Mr. Timothy J</td>\n",
       "      <td>male</td>\n",
       "      <td>54.0</td>\n",
       "      <td>0</td>\n",
       "      <td>0</td>\n",
       "      <td>17463</td>\n",
       "      <td>51.8625</td>\n",
       "      <td>E46</td>\n",
       "      <td>S</td>\n",
       "    </tr>\n",
       "    <tr>\n",
       "      <td>17</td>\n",
       "      <td>18</td>\n",
       "      <td>1</td>\n",
       "      <td>2</td>\n",
       "      <td>Williams, Mr. Charles Eugene</td>\n",
       "      <td>male</td>\n",
       "      <td>NaN</td>\n",
       "      <td>0</td>\n",
       "      <td>0</td>\n",
       "      <td>244373</td>\n",
       "      <td>13.0000</td>\n",
       "      <td>NaN</td>\n",
       "      <td>S</td>\n",
       "    </tr>\n",
       "    <tr>\n",
       "      <td>368</td>\n",
       "      <td>369</td>\n",
       "      <td>1</td>\n",
       "      <td>3</td>\n",
       "      <td>Jermyn, Miss. Annie</td>\n",
       "      <td>female</td>\n",
       "      <td>NaN</td>\n",
       "      <td>0</td>\n",
       "      <td>0</td>\n",
       "      <td>14313</td>\n",
       "      <td>7.7500</td>\n",
       "      <td>NaN</td>\n",
       "      <td>Q</td>\n",
       "    </tr>\n",
       "  </tbody>\n",
       "</table>\n",
       "</div>"
      ],
      "text/plain": [
       "     PassengerId  Survived  Pclass  \\\n",
       "862          863         1       1   \n",
       "223          224         0       3   \n",
       "84            85         1       2   \n",
       "680          681         0       3   \n",
       "535          536         1       2   \n",
       "623          624         0       3   \n",
       "148          149         0       2   \n",
       "3              4         1       1   \n",
       "34            35         0       1   \n",
       "241          242         1       3   \n",
       "794          795         0       3   \n",
       "2              3         1       3   \n",
       "6              7         0       1   \n",
       "17            18         1       2   \n",
       "368          369         1       3   \n",
       "\n",
       "                                                  Name     Sex   Age  SibSp  \\\n",
       "862  Swift, Mrs. Frederick Joel (Margaret Welles Ba...  female  48.0      0   \n",
       "223                               Nenkoff, Mr. Christo    male   NaN      0   \n",
       "84                                 Ilett, Miss. Bertha  female  17.0      0   \n",
       "680                                Peters, Miss. Katie  female   NaN      0   \n",
       "535                             Hart, Miss. Eva Miriam  female   7.0      0   \n",
       "623                        Hansen, Mr. Henry Damsgaard    male  21.0      0   \n",
       "148           Navratil, Mr. Michel (\"Louis M Hoffman\")    male  36.5      0   \n",
       "3         Futrelle, Mrs. Jacques Heath (Lily May Peel)  female  35.0      1   \n",
       "34                             Meyer, Mr. Edgar Joseph    male  28.0      1   \n",
       "241                     Murphy, Miss. Katherine \"Kate\"  female   NaN      1   \n",
       "794                              Dantcheff, Mr. Ristiu    male  25.0      0   \n",
       "2                               Heikkinen, Miss. Laina  female  26.0      0   \n",
       "6                              McCarthy, Mr. Timothy J    male  54.0      0   \n",
       "17                        Williams, Mr. Charles Eugene    male   NaN      0   \n",
       "368                                Jermyn, Miss. Annie  female   NaN      0   \n",
       "\n",
       "     Parch            Ticket     Fare Cabin Embarked  \n",
       "862      0             17466  25.9292   D17        S  \n",
       "223      0            349234   7.8958   NaN        S  \n",
       "84       0        SO/C 14885  10.5000   NaN        S  \n",
       "680      0            330935   8.1375   NaN        Q  \n",
       "535      2      F.C.C. 13529  26.2500   NaN        S  \n",
       "623      0            350029   7.8542   NaN        S  \n",
       "148      2            230080  26.0000    F2        S  \n",
       "3        0            113803  53.1000  C123        S  \n",
       "34       0          PC 17604  82.1708   NaN        C  \n",
       "241      0            367230  15.5000   NaN        Q  \n",
       "794      0            349203   7.8958   NaN        S  \n",
       "2        0  STON/O2. 3101282   7.9250   NaN        S  \n",
       "6        0             17463  51.8625   E46        S  \n",
       "17       0            244373  13.0000   NaN        S  \n",
       "368      0             14313   7.7500   NaN        Q  "
      ]
     },
     "execution_count": 48,
     "metadata": {},
     "output_type": "execute_result"
    }
   ],
   "source": [
    "import pandas as pd\n",
    "import numpy as np\n",
    "\n",
    "df = pd.read_csv('titanic.csv')\n",
    "\n",
    "df_amostra = df.sample(15, random_state = 1)\n",
    "df_amostra"
   ]
  },
  {
   "cell_type": "code",
   "execution_count": 49,
   "metadata": {},
   "outputs": [],
   "source": [
    "# vamos limitar nossa classe a apenas dados categóricos - dado\n",
    "\n",
    "class Arvore:\n",
    "    \n",
    "    def __init__(self, \n",
    "                 df, var_resposta, \n",
    "                 atributo_origem = '-',\n",
    "                 atributo_origem_valor = '-', \n",
    "                 profundidade = 0):\n",
    "        \n",
    "        self.df = df\n",
    "        self.var_resposta = var_resposta\n",
    "        self.filhos = []\n",
    "        self.atributo_melhor = '-'\n",
    "        self.atributo_origem = atributo_origem\n",
    "        self.atributo_origem_valor = atributo_origem_valor\n",
    "        self.gi = 0\n",
    "        self.profundidade = profundidade\n",
    "    \n",
    "    def __repr__(self):\n",
    "        return f'''Nó {self.profundidade} da Árvore de Decisão.\\nCaracterísticas do No:\n",
    "            Dataframe de {self.df.shape[0]} linhas.\n",
    "            A origem desse nó é o atributo {self.atributo_origem} com valor {self.atributo_origem_valor}\n",
    "            Melhor atributo desse nó é {self.atributo_melhor} com GI de {self.gi}'''\n",
    "    \n",
    "    @staticmethod\n",
    "    def entropia_binaria(p):\n",
    "    \n",
    "        if p == 0 or p == 1:\n",
    "            return 0\n",
    "\n",
    "        n = 1 - p\n",
    "        return -(p*np.log2(p) + n*np.log2(n))\n",
    "    \n",
    "    @staticmethod\n",
    "    def ganho_informacao(df, coluna, var_resposta):\n",
    "    \n",
    "        seq_poss = df[coluna].unique()\n",
    "\n",
    "        ent_inicial = Arvore.entropia_binaria(df[var_resposta].value_counts(1).iloc[0])\n",
    "\n",
    "        conj = [df[df[coluna] == i] for i in seq_poss]\n",
    "        ent = [Arvore.entropia_binaria(i[var_resposta].value_counts(1).iloc[0]) for i in conj]\n",
    "        n_elem = [i.shape[0] for i in conj]\n",
    "\n",
    "        total = sum(n_elem)\n",
    "\n",
    "        ent_atr = 0\n",
    "        for i in range(len(conj)):\n",
    "            ent_atr += ent[i]*n_elem[i]/total\n",
    "\n",
    "        return ent_inicial - ent_atr\n",
    "        \n",
    "    def melhor_atributo(self):\n",
    "        '''\n",
    "        Esse método acha o melhor atributo em relação ao ganho de informação.\n",
    "        '''\n",
    "\n",
    "        colunas_a_testar = self.df.columns.to_list()\n",
    "        colunas_a_testar.remove(self.var_resposta)\n",
    "\n",
    "        maior_v = 0\n",
    "        maior_k = '-'\n",
    "\n",
    "        for col in colunas_a_testar:\n",
    "\n",
    "            v = Arvore.ganho_informacao(self.df, col, self.var_resposta)\n",
    "            if v > maior_v:\n",
    "                maior_v = v\n",
    "                maior_k = col\n",
    "        \n",
    "        return maior_k, maior_v\n",
    "        \n",
    "    def realiza_quebra(self):\n",
    "        '''\n",
    "        Quebra o conjunto de dados inicial em N subconjuntos de acordo com \n",
    "        o melhor atributo.\n",
    "        '''\n",
    "        \n",
    "        self.atributo_melhor, self.gi = self.melhor_atributo()\n",
    "        \n",
    "        if self.atributo_melhor == '-':\n",
    "            return \n",
    "        \n",
    "        possibilidades = self.df[self.atributo_melhor].unique()\n",
    "        \n",
    "        for p in possibilidades:\n",
    "            mascara = self.df[self.atributo_melhor] == p\n",
    "            sub_conj = self.df.loc[mascara, :]\n",
    "            self.filhos.append(Arvore(sub_conj, \n",
    "                                      self.var_resposta, \n",
    "                                      atributo_origem = self.atributo_melhor,\n",
    "                                      atributo_origem_valor = p,\n",
    "                                      profundidade = self.profundidade + 1))\n",
    "            \n",
    "            \n",
    "    def cria_galhos(self):\n",
    "        \n",
    "        self.realiza_quebra()\n",
    "        \n",
    "        for i in self.filhos:\n",
    "            \n",
    "            p0 = i.df[i.var_resposta].value_counts(1).iloc[0]\n",
    "            ent = Arvore.entropia_binaria(p0)\n",
    "            \n",
    "            if ent > 0:\n",
    "                i.cria_galhos()\n",
    "    \n",
    "    # TODO\n",
    "    def cria_regras(self):\n",
    "        '''\n",
    "        Esse método deve percorrer recurssivamente as árvores retornando o\n",
    "        conjunto de regras que definem a qual nó a nova instância pertencerá.\n",
    "        '''\n",
    "        \n",
    "        # Condição de parada:\n",
    "        if self.gi == 0:\n",
    "            return\n",
    "                \n",
    "        return regras\n",
    "    \n",
    "    # TODO\n",
    "    def predicao(self, nova_instancia):\n",
    "        ''' \n",
    "        Dado uma nova instância, retorna a sua predição.\n",
    "        '''\n",
    "        \n",
    "        \n",
    "        return pred"
   ]
  },
  {
   "cell_type": "code",
   "execution_count": 3,
   "metadata": {},
   "outputs": [
    {
     "data": {
      "text/plain": [
       "Nó 0 da Árvore de Decisão.\n",
       "Características do No:\n",
       "            Dataframe de 15 linhas.\n",
       "            A origem desse nó é o atributo - com valor -\n",
       "            Melhor atributo desse nó é - com GI de 0"
      ]
     },
     "execution_count": 3,
     "metadata": {},
     "output_type": "execute_result"
    }
   ],
   "source": [
    "arv = Arvore(df_amostra[['Survived', 'Pclass', 'Sex', 'SibSp', 'Parch']], 'Survived')\n",
    "arv"
   ]
  },
  {
   "cell_type": "code",
   "execution_count": 4,
   "metadata": {},
   "outputs": [],
   "source": [
    "arv.cria_galhos()"
   ]
  },
  {
   "cell_type": "code",
   "execution_count": 5,
   "metadata": {},
   "outputs": [
    {
     "data": {
      "text/plain": [
       "Nó 0 da Árvore de Decisão.\n",
       "Características do No:\n",
       "            Dataframe de 15 linhas.\n",
       "            A origem desse nó é o atributo - com valor -\n",
       "            Melhor atributo desse nó é Sex com GI de 0.430776632270099"
      ]
     },
     "execution_count": 5,
     "metadata": {},
     "output_type": "execute_result"
    }
   ],
   "source": [
    "arv"
   ]
  },
  {
   "cell_type": "code",
   "execution_count": 6,
   "metadata": {},
   "outputs": [
    {
     "data": {
      "text/plain": [
       "Nó 1 da Árvore de Decisão.\n",
       "Características do No:\n",
       "            Dataframe de 8 linhas.\n",
       "            A origem desse nó é o atributo Sex com valor female\n",
       "            Melhor atributo desse nó é Pclass com GI de 0.13792538097003"
      ]
     },
     "execution_count": 6,
     "metadata": {},
     "output_type": "execute_result"
    }
   ],
   "source": [
    "arv.filhos[0]"
   ]
  },
  {
   "cell_type": "code",
   "execution_count": 7,
   "metadata": {},
   "outputs": [
    {
     "data": {
      "text/plain": [
       "Nó 1 da Árvore de Decisão.\n",
       "Características do No:\n",
       "            Dataframe de 7 linhas.\n",
       "            A origem desse nó é o atributo Sex com valor male\n",
       "            Melhor atributo desse nó é Pclass com GI de 0.3059584928680418"
      ]
     },
     "execution_count": 7,
     "metadata": {},
     "output_type": "execute_result"
    }
   ],
   "source": [
    "arv.filhos[1]"
   ]
  },
  {
   "cell_type": "code",
   "execution_count": 8,
   "metadata": {},
   "outputs": [
    {
     "data": {
      "text/plain": [
       "PassengerId                          1\n",
       "Survived                             0\n",
       "Pclass                               3\n",
       "Name           Braund, Mr. Owen Harris\n",
       "Sex                               male\n",
       "Age                                 22\n",
       "SibSp                                1\n",
       "Parch                                0\n",
       "Ticket                       A/5 21171\n",
       "Fare                              7.25\n",
       "Cabin                              NaN\n",
       "Embarked                             S\n",
       "Name: 0, dtype: object"
      ]
     },
     "execution_count": 8,
     "metadata": {},
     "output_type": "execute_result"
    }
   ],
   "source": [
    "df.iloc[0, :]"
   ]
  },
  {
   "cell_type": "code",
   "execution_count": 9,
   "metadata": {},
   "outputs": [
    {
     "data": {
      "text/plain": [
       "Nó 2 da Árvore de Decisão.\n",
       "Características do No:\n",
       "            Dataframe de 2 linhas.\n",
       "            A origem desse nó é o atributo Pclass com valor 1\n",
       "            Melhor atributo desse nó é - com GI de 0"
      ]
     },
     "execution_count": 9,
     "metadata": {},
     "output_type": "execute_result"
    }
   ],
   "source": [
    "arv.filhos[0].filhos[0]"
   ]
  },
  {
   "cell_type": "markdown",
   "metadata": {},
   "source": [
    "## Overfit"
   ]
  },
  {
   "cell_type": "code",
   "execution_count": 11,
   "metadata": {},
   "outputs": [
    {
     "name": "stderr",
     "output_type": "stream",
     "text": [
      "C:\\ProgramData\\Anaconda3\\lib\\site-packages\\sklearn\\externals\\six.py:31: DeprecationWarning: The module is deprecated in version 0.21 and will be removed in version 0.23 since we've dropped support for Python 2.7. Please rely on the official version of six (https://pypi.org/project/six/).\n",
      "  \"(https://pypi.org/project/six/).\", DeprecationWarning)\n"
     ]
    }
   ],
   "source": [
    "from sklearn import tree\n",
    "\n",
    "import pydotplus\n",
    "\n",
    "from sklearn.tree import DecisionTreeClassifier\n",
    "from sklearn.metrics import accuracy_score\n",
    "from sklearn.externals.six import StringIO \n",
    "from IPython.display import Image"
   ]
  },
  {
   "cell_type": "code",
   "execution_count": 12,
   "metadata": {},
   "outputs": [],
   "source": [
    "df = pd.read_csv('titanic.csv')"
   ]
  },
  {
   "cell_type": "code",
   "execution_count": 14,
   "metadata": {},
   "outputs": [
    {
     "ename": "InvocationException",
     "evalue": "GraphViz's executables not found",
     "output_type": "error",
     "traceback": [
      "\u001b[1;31m---------------------------------------------------------------------------\u001b[0m",
      "\u001b[1;31mInvocationException\u001b[0m                       Traceback (most recent call last)",
      "\u001b[1;32m<ipython-input-14-9fa3c31e95ae>\u001b[0m in \u001b[0;36m<module>\u001b[1;34m\u001b[0m\n\u001b[0;32m     20\u001b[0m \u001b[0mgraph\u001b[0m \u001b[1;33m=\u001b[0m \u001b[0mpydotplus\u001b[0m\u001b[1;33m.\u001b[0m\u001b[0mgraph_from_dot_data\u001b[0m\u001b[1;33m(\u001b[0m\u001b[0mdot_data\u001b[0m\u001b[1;33m.\u001b[0m\u001b[0mgetvalue\u001b[0m\u001b[1;33m(\u001b[0m\u001b[1;33m)\u001b[0m\u001b[1;33m)\u001b[0m\u001b[1;33m\u001b[0m\u001b[1;33m\u001b[0m\u001b[0m\n\u001b[0;32m     21\u001b[0m \u001b[1;33m\u001b[0m\u001b[0m\n\u001b[1;32m---> 22\u001b[1;33m \u001b[0mgraph\u001b[0m\u001b[1;33m.\u001b[0m\u001b[0mwrite_pdf\u001b[0m\u001b[1;33m(\u001b[0m\u001b[1;34m'regras_modelo.pdf'\u001b[0m\u001b[1;33m)\u001b[0m\u001b[1;33m\u001b[0m\u001b[1;33m\u001b[0m\u001b[0m\n\u001b[0m",
      "\u001b[1;32mC:\\ProgramData\\Anaconda3\\lib\\site-packages\\pydotplus\\graphviz.py\u001b[0m in \u001b[0;36m<lambda>\u001b[1;34m(path, f, prog)\u001b[0m\n\u001b[0;32m   1808\u001b[0m                 \u001b[1;32mlambda\u001b[0m \u001b[0mpath\u001b[0m\u001b[1;33m,\u001b[0m\u001b[1;33m\u001b[0m\u001b[1;33m\u001b[0m\u001b[0m\n\u001b[0;32m   1809\u001b[0m                 \u001b[0mf\u001b[0m\u001b[1;33m=\u001b[0m\u001b[0mfrmt\u001b[0m\u001b[1;33m,\u001b[0m\u001b[1;33m\u001b[0m\u001b[1;33m\u001b[0m\u001b[0m\n\u001b[1;32m-> 1810\u001b[1;33m                 \u001b[0mprog\u001b[0m\u001b[1;33m=\u001b[0m\u001b[0mself\u001b[0m\u001b[1;33m.\u001b[0m\u001b[0mprog\u001b[0m\u001b[1;33m:\u001b[0m \u001b[0mself\u001b[0m\u001b[1;33m.\u001b[0m\u001b[0mwrite\u001b[0m\u001b[1;33m(\u001b[0m\u001b[0mpath\u001b[0m\u001b[1;33m,\u001b[0m \u001b[0mformat\u001b[0m\u001b[1;33m=\u001b[0m\u001b[0mf\u001b[0m\u001b[1;33m,\u001b[0m \u001b[0mprog\u001b[0m\u001b[1;33m=\u001b[0m\u001b[0mprog\u001b[0m\u001b[1;33m)\u001b[0m\u001b[1;33m\u001b[0m\u001b[1;33m\u001b[0m\u001b[0m\n\u001b[0m\u001b[0;32m   1811\u001b[0m             )\n\u001b[0;32m   1812\u001b[0m \u001b[1;33m\u001b[0m\u001b[0m\n",
      "\u001b[1;32mC:\\ProgramData\\Anaconda3\\lib\\site-packages\\pydotplus\\graphviz.py\u001b[0m in \u001b[0;36mwrite\u001b[1;34m(self, path, prog, format)\u001b[0m\n\u001b[0;32m   1916\u001b[0m \u001b[1;33m\u001b[0m\u001b[0m\n\u001b[0;32m   1917\u001b[0m             \u001b[1;32melse\u001b[0m\u001b[1;33m:\u001b[0m\u001b[1;33m\u001b[0m\u001b[1;33m\u001b[0m\u001b[0m\n\u001b[1;32m-> 1918\u001b[1;33m                 \u001b[0mfobj\u001b[0m\u001b[1;33m.\u001b[0m\u001b[0mwrite\u001b[0m\u001b[1;33m(\u001b[0m\u001b[0mself\u001b[0m\u001b[1;33m.\u001b[0m\u001b[0mcreate\u001b[0m\u001b[1;33m(\u001b[0m\u001b[0mprog\u001b[0m\u001b[1;33m,\u001b[0m \u001b[0mformat\u001b[0m\u001b[1;33m)\u001b[0m\u001b[1;33m)\u001b[0m\u001b[1;33m\u001b[0m\u001b[1;33m\u001b[0m\u001b[0m\n\u001b[0m\u001b[0;32m   1919\u001b[0m         \u001b[1;32mfinally\u001b[0m\u001b[1;33m:\u001b[0m\u001b[1;33m\u001b[0m\u001b[1;33m\u001b[0m\u001b[0m\n\u001b[0;32m   1920\u001b[0m             \u001b[1;32mif\u001b[0m \u001b[0mclose\u001b[0m\u001b[1;33m:\u001b[0m\u001b[1;33m\u001b[0m\u001b[1;33m\u001b[0m\u001b[0m\n",
      "\u001b[1;32mC:\\ProgramData\\Anaconda3\\lib\\site-packages\\pydotplus\\graphviz.py\u001b[0m in \u001b[0;36mcreate\u001b[1;34m(self, prog, format)\u001b[0m\n\u001b[0;32m   1958\u001b[0m             \u001b[1;32mif\u001b[0m \u001b[0mself\u001b[0m\u001b[1;33m.\u001b[0m\u001b[0mprogs\u001b[0m \u001b[1;32mis\u001b[0m \u001b[1;32mNone\u001b[0m\u001b[1;33m:\u001b[0m\u001b[1;33m\u001b[0m\u001b[1;33m\u001b[0m\u001b[0m\n\u001b[0;32m   1959\u001b[0m                 raise InvocationException(\n\u001b[1;32m-> 1960\u001b[1;33m                     'GraphViz\\'s executables not found')\n\u001b[0m\u001b[0;32m   1961\u001b[0m \u001b[1;33m\u001b[0m\u001b[0m\n\u001b[0;32m   1962\u001b[0m         \u001b[1;32mif\u001b[0m \u001b[0mprog\u001b[0m \u001b[1;32mnot\u001b[0m \u001b[1;32min\u001b[0m \u001b[0mself\u001b[0m\u001b[1;33m.\u001b[0m\u001b[0mprogs\u001b[0m\u001b[1;33m:\u001b[0m\u001b[1;33m\u001b[0m\u001b[1;33m\u001b[0m\u001b[0m\n",
      "\u001b[1;31mInvocationException\u001b[0m: GraphViz's executables not found"
     ]
    }
   ],
   "source": [
    "x = df.loc[:, ['PassengerId', 'Pclass', 'Sex', 'Age', 'SibSp', 'Parch', 'Fare']]\n",
    "y = df.loc[:, 'Survived']\n",
    "\n",
    "x.Sex = x.Sex.apply(lambda x: 1 if x == 'male' else 0)\n",
    "x = x.fillna(-1)\n",
    "\n",
    "arv = DecisionTreeClassifier()\n",
    "arv.fit(x, y)\n",
    "\n",
    "dot_data = StringIO()\n",
    "\n",
    "tree.export_graphviz(arv,\n",
    "                     out_file = dot_data, \n",
    "                     class_names = ['MORREU', 'SOBREVIVEU'],\n",
    "                     feature_names = x.columns,\n",
    "                     filled = True,\n",
    "                     rounded = True,\n",
    "                     special_characters = True)\n",
    "\n",
    "graph = pydotplus.graph_from_dot_data(dot_data.getvalue()) \n",
    "\n",
    "graph.write_pdf('regras_modelo.pdf')"
   ]
  },
  {
   "cell_type": "code",
   "execution_count": 15,
   "metadata": {},
   "outputs": [
    {
     "data": {
      "text/plain": [
       "1.0"
      ]
     },
     "execution_count": 15,
     "metadata": {},
     "output_type": "execute_result"
    }
   ],
   "source": [
    "arv.score(x, y)"
   ]
  },
  {
   "cell_type": "code",
   "execution_count": 39,
   "metadata": {},
   "outputs": [],
   "source": [
    "x['Random'] = np.random.randint(1, 100, len(x))"
   ]
  },
  {
   "cell_type": "code",
   "execution_count": 41,
   "metadata": {},
   "outputs": [],
   "source": [
    "x.Sex = x.Sex.apply(lambda x: 1 if x == 'male' else 0)\n",
    "\n",
    "x.Random = x.Random.apply(lambda x: 'Teste' if x >= 75 else 'Treino')"
   ]
  },
  {
   "cell_type": "code",
   "execution_count": 47,
   "metadata": {},
   "outputs": [
    {
     "name": "stdout",
     "output_type": "stream",
     "text": [
      "671 220 75.30864197530865\n"
     ]
    }
   ],
   "source": [
    "a = len(x[x['Random'] == 'Treino'])\n",
    "b = len(x[x['Random'] == 'Teste'])\n",
    "\n",
    "perc = (a/(a+b)) * 100\n",
    "\n",
    "print(a, b, perc)"
   ]
  },
  {
   "cell_type": "code",
   "execution_count": 16,
   "metadata": {},
   "outputs": [
    {
     "data": {
      "text/plain": [
       "8"
      ]
     },
     "execution_count": 16,
     "metadata": {},
     "output_type": "execute_result"
    }
   ],
   "source": [
    "np.random.randint(16)"
   ]
  },
  {
   "cell_type": "markdown",
   "metadata": {},
   "source": [
    "## 2. Metodologias de Avaliação\n",
    "\n",
    "Para observar ocorrência de *overfit* e calcular métricas mais confiáveis, podemos utilizar diversos tipos de metodologias, as quais partem do princípio de definir subconjuntos de **treinamento e teste**, separados de forma disjunta. Os dados de treinamento são empregados no ajuste do modelo, enquanto que os exemplos de teste simulam a apresentação de objetos novos, os quais não foram vistos durante o aprendizado.\n",
    "\n",
    "### 2.1. Hold Out\n",
    "\n",
    "Nessa metodologia, o conjunto de dados é dividido em apenas duas partes: treinamento e teste. O primeiro serve para o ajuste do modelo, enquanto o segundo será usado em sua avaliação.\n",
    "\n",
    "<img src=\"ma_holdout.png\" alt=\"Drawing\" style=\"height: 250px;\"/>"
   ]
  },
  {
   "cell_type": "markdown",
   "metadata": {},
   "source": [
    "**Para pensar:** Aplique a metodologia hold out para treinar o modelo do início do tópico e compare o desempenho do conjunto de treinamento e teste. O que você observa?"
   ]
  },
  {
   "cell_type": "code",
   "execution_count": null,
   "metadata": {},
   "outputs": [],
   "source": []
  },
  {
   "cell_type": "code",
   "execution_count": null,
   "metadata": {},
   "outputs": [],
   "source": []
  }
 ],
 "metadata": {
  "kernelspec": {
   "display_name": "Python 3",
   "language": "python",
   "name": "python3"
  },
  "language_info": {
   "codemirror_mode": {
    "name": "ipython",
    "version": 3
   },
   "file_extension": ".py",
   "mimetype": "text/x-python",
   "name": "python",
   "nbconvert_exporter": "python",
   "pygments_lexer": "ipython3",
   "version": "3.7.4"
  }
 },
 "nbformat": 4,
 "nbformat_minor": 4
}
