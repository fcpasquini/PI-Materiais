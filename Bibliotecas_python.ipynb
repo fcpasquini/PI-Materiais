{
 "cells": [
  {
   "cell_type": "markdown",
   "metadata": {},
   "source": [
    "# Relação de bibliotecas do python e suas utilidades"
   ]
  },
  {
   "cell_type": "markdown",
   "metadata": {},
   "source": [
    "\n",
    "\n",
    "- matplotlib: Biblioteca de funções de trabalhos matemáticos e gráficos para Python;\n",
    "\n",
    "- matplotlib.pyplot(plt): Classe de funções do matplotlib focado no desenvolvimento de gráficos;\n",
    "\n",
    "- matplotlib_venn: Biblioteca de funções de trabalho com diagramas de Venn;\n",
    "\n",
    "- matplotlib_ven - venn2: Classe de funções do matplotlib_venn focado no processamento de diagramas de Venn;\n",
    "\n",
    "- numpy(np): Biblioteca de funções mistas matemáticas e computacionais, com foco em facilitar o processamento de dados e informações;\n",
    "\n",
    "- os: Biblioteca de funções de operações de sistema operacional; criação e processamento de diretórios do explorer;\n",
    "\n",
    "- pandas(pd): Biblioteca de tratamento de arquivos matriciais e bases de dados estruturados que são convertidos em DataFrames (dfs);\n",
    "\n",
    "- scipy: Biblioteca de funções de trabalho estatísticos e científicos;\n",
    "\n",
    "- stats: Classe de funções do scipy com foco em processamentos estatísticos;\n",
    "\n",
    "- webbrowser: Biblioteca de funções de trabalho com navegador web, a fim de facilitar a execução de processos de RPA;\n"
   ]
  },
  {
   "cell_type": "code",
   "execution_count": null,
   "metadata": {},
   "outputs": [],
   "source": []
  },
  {
   "cell_type": "code",
   "execution_count": null,
   "metadata": {},
   "outputs": [],
   "source": []
  },
  {
   "cell_type": "code",
   "execution_count": null,
   "metadata": {},
   "outputs": [],
   "source": []
  },
  {
   "cell_type": "code",
   "execution_count": null,
   "metadata": {},
   "outputs": [],
   "source": []
  },
  {
   "cell_type": "code",
   "execution_count": null,
   "metadata": {},
   "outputs": [],
   "source": []
  },
  {
   "cell_type": "code",
   "execution_count": null,
   "metadata": {},
   "outputs": [],
   "source": []
  },
  {
   "cell_type": "code",
   "execution_count": null,
   "metadata": {},
   "outputs": [],
   "source": []
  },
  {
   "cell_type": "code",
   "execution_count": null,
   "metadata": {},
   "outputs": [],
   "source": []
  },
  {
   "cell_type": "code",
   "execution_count": null,
   "metadata": {},
   "outputs": [],
   "source": []
  },
  {
   "cell_type": "code",
   "execution_count": null,
   "metadata": {},
   "outputs": [],
   "source": []
  },
  {
   "cell_type": "code",
   "execution_count": null,
   "metadata": {},
   "outputs": [],
   "source": []
  },
  {
   "cell_type": "code",
   "execution_count": null,
   "metadata": {},
   "outputs": [],
   "source": []
  },
  {
   "cell_type": "code",
   "execution_count": null,
   "metadata": {},
   "outputs": [],
   "source": []
  },
  {
   "cell_type": "code",
   "execution_count": null,
   "metadata": {},
   "outputs": [],
   "source": []
  },
  {
   "cell_type": "code",
   "execution_count": null,
   "metadata": {},
   "outputs": [],
   "source": []
  },
  {
   "cell_type": "markdown",
   "metadata": {},
   "source": []
  }
 ],
 "metadata": {
  "kernelspec": {
   "display_name": "Python 3",
   "language": "python",
   "name": "python3"
  },
  "language_info": {
   "codemirror_mode": {
    "name": "ipython",
    "version": 3
   },
   "file_extension": ".py",
   "mimetype": "text/x-python",
   "name": "python",
   "nbconvert_exporter": "python",
   "pygments_lexer": "ipython3",
   "version": "3.7.4"
  }
 },
 "nbformat": 4,
 "nbformat_minor": 4
}
