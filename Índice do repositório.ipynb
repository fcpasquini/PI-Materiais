{
 "cells": [
  {
   "cell_type": "markdown",
   "metadata": {},
   "source": [
    "### Biblioteca de materiais do PI"
   ]
  },
  {
   "cell_type": "markdown",
   "metadata": {},
   "source": [
    "### Módulos"
   ]
  },
  {
   "cell_type": "code",
   "execution_count": 2,
   "metadata": {},
   "outputs": [],
   "source": [
    "modulos = {1:'1 - Introdução ao Python', 2:'2 - Python avançado', 3:'3 - Python na prática', 4:'4 - Metodologias ágeis', 5:'5 - Bancos de dados', 6:'6 - Introdução à Estatística', 7:'7 - Machine Learning', 8:'8 - Redes Neurais', 9:'9 - Dados não estruturados', 10:'10 - Big Data'}\n",
    "\n",
    "arquivos = {1:{1: 'Teste', 2: 'Teste2'}, 2:{1:'Sem arquivos'}, 3:{1:'Sem arquivos'}, 4:{1:'Sem arquivos'}, 5:{1:'Sem arquivos'}, 6:{1:'Sem arquivos'}, 7:{1:''}, 8:{1:'Sem arquivos'}, 9:{1:'Sem arquivos'}, 10:{1:'Sem arquivos'}}"
   ]
  },
  {
   "cell_type": "code",
   "execution_count": 8,
   "metadata": {},
   "outputs": [
    {
     "name": "stdout",
     "output_type": "stream",
     "text": [
      "Olá. Digite algum dos seguintes comandos ou o número do módulo que deseja acessar: \n",
      "modulo: Apresenta a lista de módulos e seus índices \n",
      "sair: Fecha o programa\n"
     ]
    },
    {
     "name": "stdin",
     "output_type": "stream",
     "text": [
      " 7\n"
     ]
    },
    {
     "name": "stdout",
     "output_type": "stream",
     "text": [
      "7 - Machine Learning\n"
     ]
    },
    {
     "name": "stdin",
     "output_type": "stream",
     "text": [
      "Digite o número do arquivo que deseja acessar ou digite arquivos para acessar a lista de arquivos:  1\n"
     ]
    },
    {
     "name": "stdout",
     "output_type": "stream",
     "text": [
      "M7_A1 - Machine Learning e Entropia\n"
     ]
    }
   ],
   "source": [
    "while True:\n",
    "    print('Olá. Digite algum dos seguintes comandos ou o número do módulo que deseja acessar: \\nmodulo: Apresenta a lista de módulos e seus índices \\nsair: Fecha o programa')\n",
    "    a = input()\n",
    "    try:\n",
    "        val = int(a)\n",
    "        if  val > 0:\n",
    "            if val <= 10:\n",
    "                print(modulos[val])\n",
    "                modulo = list(modulos.keys())[val-1]\n",
    "                while True:\n",
    "                    b = input('Digite o número do arquivo que deseja acessar ou digite arquivos para acessar a lista de arquivos: ')\n",
    "                    try:\n",
    "                        valb = int(b)\n",
    "                        print(arquivos[modulo][valb])\n",
    "                        break\n",
    "                    except ValueError:\n",
    "                        if b == 'arquivos':\n",
    "                            print(arquivos[modulo])\n",
    "                        elif b == 'voltar':\n",
    "                            break\n",
    "                        else:\n",
    "                            print('Comando inválido. Reinicie o processo')\n",
    "                break\n",
    "            else:\n",
    "                print('Comando inválido. Digite um comando válido.')\n",
    "            \n",
    "    except ValueError:\n",
    "        try:\n",
    "            val = str(a)\n",
    "            if val == 'modulo':\n",
    "                print(modulos)\n",
    "            elif val == 'sair':\n",
    "                break\n",
    "        except ValueError:\n",
    "              print(\"Comando inválido. Digite um comando válido\")"
   ]
  },
  {
   "cell_type": "code",
   "execution_count": null,
   "metadata": {},
   "outputs": [],
   "source": []
  }
 ],
 "metadata": {
  "kernelspec": {
   "display_name": "Python 3",
   "language": "python",
   "name": "python3"
  },
  "language_info": {
   "codemirror_mode": {
    "name": "ipython",
    "version": 3
   },
   "file_extension": ".py",
   "mimetype": "text/x-python",
   "name": "python",
   "nbconvert_exporter": "python",
   "pygments_lexer": "ipython3",
   "version": "3.7.4"
  }
 },
 "nbformat": 4,
 "nbformat_minor": 4
}
